{
 "cells": [
  {
   "cell_type": "code",
   "execution_count": null,
   "metadata": {
    "colab": {
     "base_uri": "https://localhost:8080/"
    },
    "id": "mial4I6C0v6x",
    "outputId": "565e66bc-cf87-41be-a964-a09111993433"
   },
   "outputs": [
    {
     "name": "stdout",
     "output_type": "stream",
     "text": [
      "Collecting h2o\n",
      "\u001b[?25l  Downloading https://files.pythonhosted.org/packages/bb/55/494a42e7509d0874aa444ae4cad0bc7439c936b40e563550fbfabb540275/h2o-3.30.1.3.tar.gz (129.4MB)\n",
      "\u001b[K     |████████████████████████████████| 129.4MB 103kB/s \n",
      "\u001b[?25hRequirement already satisfied: requests in /usr/local/lib/python3.6/dist-packages (from h2o) (2.23.0)\n",
      "Requirement already satisfied: tabulate in /usr/local/lib/python3.6/dist-packages (from h2o) (0.8.7)\n",
      "Requirement already satisfied: future in /usr/local/lib/python3.6/dist-packages (from h2o) (0.16.0)\n",
      "Collecting colorama>=0.3.8\n",
      "  Downloading https://files.pythonhosted.org/packages/44/98/5b86278fbbf250d239ae0ecb724f8572af1c91f4a11edf4d36a206189440/colorama-0.4.4-py2.py3-none-any.whl\n",
      "Requirement already satisfied: idna<3,>=2.5 in /usr/local/lib/python3.6/dist-packages (from requests->h2o) (2.10)\n",
      "Requirement already satisfied: urllib3!=1.25.0,!=1.25.1,<1.26,>=1.21.1 in /usr/local/lib/python3.6/dist-packages (from requests->h2o) (1.24.3)\n",
      "Requirement already satisfied: certifi>=2017.4.17 in /usr/local/lib/python3.6/dist-packages (from requests->h2o) (2020.6.20)\n",
      "Requirement already satisfied: chardet<4,>=3.0.2 in /usr/local/lib/python3.6/dist-packages (from requests->h2o) (3.0.4)\n",
      "Building wheels for collected packages: h2o\n",
      "  Building wheel for h2o (setup.py) ... \u001b[?25l\u001b[?25hdone\n",
      "  Created wheel for h2o: filename=h2o-3.30.1.3-py2.py3-none-any.whl size=129446676 sha256=4e6762accecd68099ddc192722cefb74d245b6f310424550da59fd98811079fc\n",
      "  Stored in directory: /root/.cache/pip/wheels/3d/e6/07/53ce9be9cb61b33a79cb3ed1fc39f2dae84f6ee6fe1e373e5e\n",
      "Successfully built h2o\n",
      "Installing collected packages: colorama, h2o\n",
      "Successfully installed colorama-0.4.4 h2o-3.30.1.3\n"
     ]
    }
   ],
   "source": [
    "!pip install h2o"
   ]
  },
  {
   "cell_type": "code",
   "execution_count": null,
   "metadata": {
    "id": "S0uqEiylyRZw"
   },
   "outputs": [],
   "source": [
    "import pandas as pd"
   ]
  },
  {
   "cell_type": "code",
   "execution_count": null,
   "metadata": {
    "id": "8lnrR1zHyRZ0"
   },
   "outputs": [],
   "source": [
    "import os\n",
    "os.environ[\"CUDA_VISIBLE_DEVICES\"]=\"1\""
   ]
  },
  {
   "cell_type": "code",
   "execution_count": null,
   "metadata": {
    "id": "rJeT-2RQyRZ4"
   },
   "outputs": [],
   "source": [
    "df = pd.read_csv(\"/content/qy_st.csv\", index_col=0)"
   ]
  },
  {
   "cell_type": "code",
   "execution_count": null,
   "metadata": {
    "id": "OJIpY1jZyRZ7"
   },
   "outputs": [],
   "source": [
    "df = df[['grwtLt','lefLt', 'frmWeek', 'lefCunt', 'lefBt', 'stemThck', 'ph']]#, 'ph', 'cunt', 'otmsuplyqy']]"
   ]
  },
  {
   "cell_type": "code",
   "execution_count": null,
   "metadata": {
    "colab": {
     "base_uri": "https://localhost:8080/",
     "height": 197
    },
    "id": "4Ks8xJQlyRZ9",
    "outputId": "ad28af17-79aa-467f-d203-9618fb77671e"
   },
   "outputs": [
    {
     "data": {
      "text/html": [
       "<div>\n",
       "<style scoped>\n",
       "    .dataframe tbody tr th:only-of-type {\n",
       "        vertical-align: middle;\n",
       "    }\n",
       "\n",
       "    .dataframe tbody tr th {\n",
       "        vertical-align: top;\n",
       "    }\n",
       "\n",
       "    .dataframe thead th {\n",
       "        text-align: right;\n",
       "    }\n",
       "</style>\n",
       "<table border=\"1\" class=\"dataframe\">\n",
       "  <thead>\n",
       "    <tr style=\"text-align: right;\">\n",
       "      <th></th>\n",
       "      <th>grwtLt</th>\n",
       "      <th>lefLt</th>\n",
       "      <th>frmWeek</th>\n",
       "      <th>lefCunt</th>\n",
       "      <th>lefBt</th>\n",
       "      <th>stemThck</th>\n",
       "      <th>ph</th>\n",
       "    </tr>\n",
       "  </thead>\n",
       "  <tbody>\n",
       "    <tr>\n",
       "      <th>3851</th>\n",
       "      <td>0.000000</td>\n",
       "      <td>21.025</td>\n",
       "      <td>36</td>\n",
       "      <td>11.5</td>\n",
       "      <td>24.05</td>\n",
       "      <td>0.0</td>\n",
       "      <td>5.8000</td>\n",
       "    </tr>\n",
       "    <tr>\n",
       "      <th>3670</th>\n",
       "      <td>0.000000</td>\n",
       "      <td>0.000</td>\n",
       "      <td>1</td>\n",
       "      <td>0.0</td>\n",
       "      <td>0.00</td>\n",
       "      <td>0.0</td>\n",
       "      <td>5.4875</td>\n",
       "    </tr>\n",
       "    <tr>\n",
       "      <th>6977</th>\n",
       "      <td>0.000000</td>\n",
       "      <td>0.000</td>\n",
       "      <td>15</td>\n",
       "      <td>0.0</td>\n",
       "      <td>0.00</td>\n",
       "      <td>0.0</td>\n",
       "      <td>5.5000</td>\n",
       "    </tr>\n",
       "    <tr>\n",
       "      <th>6262</th>\n",
       "      <td>16.220833</td>\n",
       "      <td>0.000</td>\n",
       "      <td>1</td>\n",
       "      <td>0.0</td>\n",
       "      <td>0.00</td>\n",
       "      <td>0.0</td>\n",
       "      <td>6.2400</td>\n",
       "    </tr>\n",
       "    <tr>\n",
       "      <th>347</th>\n",
       "      <td>0.000000</td>\n",
       "      <td>0.000</td>\n",
       "      <td>42</td>\n",
       "      <td>0.0</td>\n",
       "      <td>0.00</td>\n",
       "      <td>0.0</td>\n",
       "      <td>5.4700</td>\n",
       "    </tr>\n",
       "  </tbody>\n",
       "</table>\n",
       "</div>"
      ],
      "text/plain": [
       "         grwtLt   lefLt  frmWeek  lefCunt  lefBt  stemThck      ph\n",
       "3851   0.000000  21.025       36     11.5  24.05       0.0  5.8000\n",
       "3670   0.000000   0.000        1      0.0   0.00       0.0  5.4875\n",
       "6977   0.000000   0.000       15      0.0   0.00       0.0  5.5000\n",
       "6262  16.220833   0.000        1      0.0   0.00       0.0  6.2400\n",
       "347    0.000000   0.000       42      0.0   0.00       0.0  5.4700"
      ]
     },
     "execution_count": 189,
     "metadata": {
      "tags": []
     },
     "output_type": "execute_result"
    }
   ],
   "source": [
    "df.sample(5)"
   ]
  },
  {
   "cell_type": "markdown",
   "metadata": {
    "id": "-hZIMqKsyRaG"
   },
   "source": [
    "# Train Test Split"
   ]
  },
  {
   "cell_type": "code",
   "execution_count": null,
   "metadata": {
    "id": "QFatLsndyRaH"
   },
   "outputs": [],
   "source": [
    "from sklearn.model_selection import train_test_split"
   ]
  },
  {
   "cell_type": "code",
   "execution_count": null,
   "metadata": {
    "id": "xnCx5TeOyRaK"
   },
   "outputs": [],
   "source": [
    "x_train, x_test = train_test_split(df, test_size=0.15, random_state=17)"
   ]
  },
  {
   "cell_type": "markdown",
   "metadata": {
    "id": "xX0HAblZyRaM"
   },
   "source": [
    "# H2O AutoML"
   ]
  },
  {
   "cell_type": "code",
   "execution_count": null,
   "metadata": {
    "id": "06i7vK8YyRaN"
   },
   "outputs": [],
   "source": [
    "import h2o\n",
    "from h2o.automl import H2OAutoML"
   ]
  },
  {
   "cell_type": "code",
   "execution_count": null,
   "metadata": {
    "colab": {
     "base_uri": "https://localhost:8080/",
     "height": 34
    },
    "id": "_UNaze2yyRaP",
    "outputId": "9e466319-f5cc-498b-f387-2a9afddd0df2"
   },
   "outputs": [
    {
     "data": {
      "application/vnd.google.colaboratory.intrinsic+json": {
       "type": "string"
      },
      "text/plain": [
       "'3.30.1.3'"
      ]
     },
     "execution_count": 193,
     "metadata": {
      "tags": []
     },
     "output_type": "execute_result"
    }
   ],
   "source": [
    "h2o.__version__"
   ]
  },
  {
   "cell_type": "code",
   "execution_count": null,
   "metadata": {
    "colab": {
     "base_uri": "https://localhost:8080/"
    },
    "id": "HjobymkHyRaV",
    "outputId": "0a39b42b-d3f0-435c-ebe5-1d90e959a36c"
   },
   "outputs": [
    {
     "data": {
      "text/plain": [
       "2"
      ]
     },
     "execution_count": 195,
     "metadata": {
      "tags": []
     },
     "output_type": "execute_result"
    }
   ],
   "source": [
    "import multiprocessing\n",
    "multiprocessing.cpu_count()"
   ]
  },
  {
   "cell_type": "code",
   "execution_count": null,
   "metadata": {
    "colab": {
     "base_uri": "https://localhost:8080/"
    },
    "id": "2Em4RzecyRaY",
    "outputId": "7cebe554-e10f-4e2c-fd2f-1ae5a4b671c7"
   },
   "outputs": [
    {
     "data": {
      "text/plain": [
       "svmem(total=13653557248, available=10605817856, percent=22.3, used=2991226880, free=6330425344, active=3037155328, inactive=3923812352, buffers=88559616, cached=4243345408, shared=987136, slab=232669184)"
      ]
     },
     "execution_count": 196,
     "metadata": {
      "tags": []
     },
     "output_type": "execute_result"
    }
   ],
   "source": [
    "import psutil\n",
    "psutil.virtual_memory()"
   ]
  },
  {
   "cell_type": "code",
   "execution_count": null,
   "metadata": {
    "colab": {
     "base_uri": "https://localhost:8080/",
     "height": 356
    },
    "id": "ASpYtry_yRab",
    "outputId": "7abab391-d09b-4c0f-9a15-69c28455ccc1"
   },
   "outputs": [
    {
     "name": "stdout",
     "output_type": "stream",
     "text": [
      "Checking whether there is an H2O instance running at http://127.0.0.1:54321 . connected.\n"
     ]
    },
    {
     "data": {
      "text/html": [
       "<div style=\"overflow:auto\"><table style=\"width:50%\"><tr><td>H2O_cluster_uptime:</td>\n",
       "<td>44 mins 41 secs</td></tr>\n",
       "<tr><td>H2O_cluster_timezone:</td>\n",
       "<td>Etc/UTC</td></tr>\n",
       "<tr><td>H2O_data_parsing_timezone:</td>\n",
       "<td>UTC</td></tr>\n",
       "<tr><td>H2O_cluster_version:</td>\n",
       "<td>3.30.1.3</td></tr>\n",
       "<tr><td>H2O_cluster_version_age:</td>\n",
       "<td>1 month and 4 days </td></tr>\n",
       "<tr><td>H2O_cluster_name:</td>\n",
       "<td>H2O_from_python_unknownUser_ty6lx5</td></tr>\n",
       "<tr><td>H2O_cluster_total_nodes:</td>\n",
       "<td>1</td></tr>\n",
       "<tr><td>H2O_cluster_free_memory:</td>\n",
       "<td>199.9 Gb</td></tr>\n",
       "<tr><td>H2O_cluster_total_cores:</td>\n",
       "<td>2</td></tr>\n",
       "<tr><td>H2O_cluster_allowed_cores:</td>\n",
       "<td>2</td></tr>\n",
       "<tr><td>H2O_cluster_status:</td>\n",
       "<td>locked, healthy</td></tr>\n",
       "<tr><td>H2O_connection_url:</td>\n",
       "<td>http://127.0.0.1:54321</td></tr>\n",
       "<tr><td>H2O_connection_proxy:</td>\n",
       "<td>{\"http\": null, \"https\": null}</td></tr>\n",
       "<tr><td>H2O_internal_security:</td>\n",
       "<td>False</td></tr>\n",
       "<tr><td>H2O_API_Extensions:</td>\n",
       "<td>Amazon S3, XGBoost, Algos, AutoML, Core V3, TargetEncoder, Core V4</td></tr>\n",
       "<tr><td>Python_version:</td>\n",
       "<td>3.6.9 final</td></tr></table></div>"
      ],
      "text/plain": [
       "--------------------------  ------------------------------------------------------------------\n",
       "H2O_cluster_uptime:         44 mins 41 secs\n",
       "H2O_cluster_timezone:       Etc/UTC\n",
       "H2O_data_parsing_timezone:  UTC\n",
       "H2O_cluster_version:        3.30.1.3\n",
       "H2O_cluster_version_age:    1 month and 4 days\n",
       "H2O_cluster_name:           H2O_from_python_unknownUser_ty6lx5\n",
       "H2O_cluster_total_nodes:    1\n",
       "H2O_cluster_free_memory:    199.9 Gb\n",
       "H2O_cluster_total_cores:    2\n",
       "H2O_cluster_allowed_cores:  2\n",
       "H2O_cluster_status:         locked, healthy\n",
       "H2O_connection_url:         http://127.0.0.1:54321\n",
       "H2O_connection_proxy:       {\"http\": null, \"https\": null}\n",
       "H2O_internal_security:      False\n",
       "H2O_API_Extensions:         Amazon S3, XGBoost, Algos, AutoML, Core V3, TargetEncoder, Core V4\n",
       "Python_version:             3.6.9 final\n",
       "--------------------------  ------------------------------------------------------------------"
      ]
     },
     "metadata": {
      "tags": []
     },
     "output_type": "display_data"
    }
   ],
   "source": [
    "#h2o.init()\n",
    "h2o.init(ip=\"127.0.0.1\", max_mem_size_GB = 200, nthreads = 10)"
   ]
  },
  {
   "cell_type": "code",
   "execution_count": null,
   "metadata": {
    "colab": {
     "base_uri": "https://localhost:8080/"
    },
    "id": "t7KoKWcXyRad",
    "outputId": "37ca716a-c86c-4a8d-bfe9-5e3b4384efd0"
   },
   "outputs": [
    {
     "name": "stdout",
     "output_type": "stream",
     "text": [
      "Parse progress: |█████████████████████████████████████████████████████████| 100%\n"
     ]
    }
   ],
   "source": [
    "hf = h2o.H2OFrame(x_train)"
   ]
  },
  {
   "cell_type": "code",
   "execution_count": null,
   "metadata": {
    "colab": {
     "base_uri": "https://localhost:8080/",
     "height": 213
    },
    "id": "5t9H5MsryRaf",
    "outputId": "70586358-b07d-4b8d-b41a-7cc5d9e707ca"
   },
   "outputs": [
    {
     "data": {
      "text/html": [
       "<table>\n",
       "<thead>\n",
       "<tr><th style=\"text-align: right;\">  grwtLt</th><th style=\"text-align: right;\">  lefLt</th><th style=\"text-align: right;\">  frmWeek</th><th style=\"text-align: right;\">  lefCunt</th><th style=\"text-align: right;\">  lefBt</th><th style=\"text-align: right;\">  stemThck</th><th style=\"text-align: right;\">     ph</th></tr>\n",
       "</thead>\n",
       "<tbody>\n",
       "<tr><td style=\"text-align: right;\">   0    </td><td style=\"text-align: right;\"> 49    </td><td style=\"text-align: right;\">       38</td><td style=\"text-align: right;\">    11.75</td><td style=\"text-align: right;\"> 39.525</td><td style=\"text-align: right;\">    12.285</td><td style=\"text-align: right;\">6      </td></tr>\n",
       "<tr><td style=\"text-align: right;\">  19.075</td><td style=\"text-align: right;\"> 15.725</td><td style=\"text-align: right;\">       36</td><td style=\"text-align: right;\">     5   </td><td style=\"text-align: right;\"> 10.95 </td><td style=\"text-align: right;\">     0    </td><td style=\"text-align: right;\">5.76667</td></tr>\n",
       "<tr><td style=\"text-align: right;\">   0    </td><td style=\"text-align: right;\">  0    </td><td style=\"text-align: right;\">        1</td><td style=\"text-align: right;\">     0   </td><td style=\"text-align: right;\">  0    </td><td style=\"text-align: right;\">     0    </td><td style=\"text-align: right;\">5.6    </td></tr>\n",
       "<tr><td style=\"text-align: right;\">   0    </td><td style=\"text-align: right;\">  0    </td><td style=\"text-align: right;\">       29</td><td style=\"text-align: right;\">     0   </td><td style=\"text-align: right;\">  0    </td><td style=\"text-align: right;\">     0    </td><td style=\"text-align: right;\">5.8    </td></tr>\n",
       "<tr><td style=\"text-align: right;\">   0    </td><td style=\"text-align: right;\">  0    </td><td style=\"text-align: right;\">       36</td><td style=\"text-align: right;\">     0   </td><td style=\"text-align: right;\">  0    </td><td style=\"text-align: right;\">     0    </td><td style=\"text-align: right;\">5.77574</td></tr>\n",
       "<tr><td style=\"text-align: right;\">   0    </td><td style=\"text-align: right;\">  0    </td><td style=\"text-align: right;\">       39</td><td style=\"text-align: right;\">     0   </td><td style=\"text-align: right;\">  0    </td><td style=\"text-align: right;\">     0    </td><td style=\"text-align: right;\">5.47262</td></tr>\n",
       "<tr><td style=\"text-align: right;\">   0    </td><td style=\"text-align: right;\">  0    </td><td style=\"text-align: right;\">       44</td><td style=\"text-align: right;\">     0   </td><td style=\"text-align: right;\">  0    </td><td style=\"text-align: right;\">     0    </td><td style=\"text-align: right;\">6.30833</td></tr>\n",
       "<tr><td style=\"text-align: right;\">   0    </td><td style=\"text-align: right;\">  0    </td><td style=\"text-align: right;\">       16</td><td style=\"text-align: right;\">     0   </td><td style=\"text-align: right;\">  0    </td><td style=\"text-align: right;\">     0    </td><td style=\"text-align: right;\">5.99381</td></tr>\n",
       "<tr><td style=\"text-align: right;\">   0    </td><td style=\"text-align: right;\">  0    </td><td style=\"text-align: right;\">       26</td><td style=\"text-align: right;\">     0   </td><td style=\"text-align: right;\">  0    </td><td style=\"text-align: right;\">     0    </td><td style=\"text-align: right;\">5.8    </td></tr>\n",
       "<tr><td style=\"text-align: right;\">  12.875</td><td style=\"text-align: right;\"> 28.475</td><td style=\"text-align: right;\">       37</td><td style=\"text-align: right;\">     8   </td><td style=\"text-align: right;\"> 21.7  </td><td style=\"text-align: right;\">     0    </td><td style=\"text-align: right;\">5.68125</td></tr>\n",
       "</tbody>\n",
       "</table>"
      ]
     },
     "metadata": {
      "tags": []
     },
     "output_type": "display_data"
    },
    {
     "data": {
      "text/plain": []
     },
     "execution_count": 199,
     "metadata": {
      "tags": []
     },
     "output_type": "execute_result"
    }
   ],
   "source": [
    "hf.head()"
   ]
  },
  {
   "cell_type": "code",
   "execution_count": null,
   "metadata": {
    "id": "Bam6TS-dyRai"
   },
   "outputs": [],
   "source": [
    "y_label = \"ph\"\n",
    "x_labels = list(df.drop(columns=[y_label]).columns)"
   ]
  },
  {
   "cell_type": "code",
   "execution_count": null,
   "metadata": {
    "colab": {
     "base_uri": "https://localhost:8080/"
    },
    "id": "5dJaMVn0yRak",
    "outputId": "96d90fee-2b71-47bb-a6d2-d85b78fc28b5"
   },
   "outputs": [
    {
     "data": {
      "text/plain": [
       "['grwtLt', 'lefLt', 'frmWeek', 'lefCunt', 'lefBt', 'stemThck']"
      ]
     },
     "execution_count": 201,
     "metadata": {
      "tags": []
     },
     "output_type": "execute_result"
    }
   ],
   "source": [
    "x_labels"
   ]
  },
  {
   "cell_type": "code",
   "execution_count": null,
   "metadata": {
    "id": "8DQduWAjyRam"
   },
   "outputs": [],
   "source": [
    "hf[y_label] = hf[y_label]"
   ]
  },
  {
   "cell_type": "code",
   "execution_count": null,
   "metadata": {
    "id": "PV64gN48yRaq"
   },
   "outputs": [],
   "source": [
    "aml = H2OAutoML(max_runtime_secs=60*2)"
   ]
  },
  {
   "cell_type": "code",
   "execution_count": null,
   "metadata": {
    "colab": {
     "base_uri": "https://localhost:8080/"
    },
    "id": "NE-wm5X_yRat",
    "outputId": "8686f03f-e128-4aaf-92c1-aebc8f4b2ef9",
    "scrolled": true
   },
   "outputs": [
    {
     "name": "stdout",
     "output_type": "stream",
     "text": [
      "AutoML progress: |████████████████████████████████████████████████████████| 100%\n",
      "CPU times: user 7.18 s, sys: 208 ms, total: 7.39 s\n",
      "Wall time: 1min 37s\n"
     ]
    }
   ],
   "source": [
    "%%time\n",
    "aml.train(x = x_labels, y = y_label, training_frame = hf)"
   ]
  },
  {
   "cell_type": "markdown",
   "metadata": {
    "id": "a9SFiO8JyRax"
   },
   "source": [
    "# Leaderboard"
   ]
  },
  {
   "cell_type": "code",
   "execution_count": null,
   "metadata": {
    "id": "BDtTUthByRax"
   },
   "outputs": [],
   "source": [
    "lb = aml.leaderboard"
   ]
  },
  {
   "cell_type": "code",
   "execution_count": null,
   "metadata": {
    "colab": {
     "base_uri": "https://localhost:8080/",
     "height": 820
    },
    "id": "rmKSfGMJyRaz",
    "outputId": "490595c9-15b3-4ceb-94c7-491d12a7505e"
   },
   "outputs": [
    {
     "data": {
      "text/html": [
       "<table>\n",
       "<thead>\n",
       "<tr><th>model_id                                           </th><th style=\"text-align: right;\">  mean_residual_deviance</th><th style=\"text-align: right;\">    rmse</th><th style=\"text-align: right;\">      mse</th><th style=\"text-align: right;\">     mae</th><th style=\"text-align: right;\">    rmsle</th></tr>\n",
       "</thead>\n",
       "<tbody>\n",
       "<tr><td>GBM_1_AutoML_20201102_024352                       </td><td style=\"text-align: right;\">               0.0570916</td><td style=\"text-align: right;\">0.238938</td><td style=\"text-align: right;\">0.0570916</td><td style=\"text-align: right;\">0.175546</td><td style=\"text-align: right;\">0.0354917</td></tr>\n",
       "<tr><td>GBM_4_AutoML_20201102_024352                       </td><td style=\"text-align: right;\">               0.057206 </td><td style=\"text-align: right;\">0.239178</td><td style=\"text-align: right;\">0.057206 </td><td style=\"text-align: right;\">0.178097</td><td style=\"text-align: right;\">0.0355435</td></tr>\n",
       "<tr><td>XGBoost_grid__1_AutoML_20201102_024352_model_4     </td><td style=\"text-align: right;\">               0.0572441</td><td style=\"text-align: right;\">0.239257</td><td style=\"text-align: right;\">0.0572441</td><td style=\"text-align: right;\">0.177585</td><td style=\"text-align: right;\">0.0355376</td></tr>\n",
       "<tr><td>GBM_2_AutoML_20201102_024352                       </td><td style=\"text-align: right;\">               0.0572468</td><td style=\"text-align: right;\">0.239263</td><td style=\"text-align: right;\">0.0572468</td><td style=\"text-align: right;\">0.17837 </td><td style=\"text-align: right;\">0.0355522</td></tr>\n",
       "<tr><td>GBM_3_AutoML_20201102_024352                       </td><td style=\"text-align: right;\">               0.0573529</td><td style=\"text-align: right;\">0.239485</td><td style=\"text-align: right;\">0.0573529</td><td style=\"text-align: right;\">0.178159</td><td style=\"text-align: right;\">0.0355898</td></tr>\n",
       "<tr><td>XGBoost_3_AutoML_20201102_024352                   </td><td style=\"text-align: right;\">               0.0575904</td><td style=\"text-align: right;\">0.23998 </td><td style=\"text-align: right;\">0.0575904</td><td style=\"text-align: right;\">0.17444 </td><td style=\"text-align: right;\">0.0356442</td></tr>\n",
       "<tr><td>GBM_grid__1_AutoML_20201102_024352_model_10        </td><td style=\"text-align: right;\">               0.0576442</td><td style=\"text-align: right;\">0.240092</td><td style=\"text-align: right;\">0.0576442</td><td style=\"text-align: right;\">0.176329</td><td style=\"text-align: right;\">0.0356746</td></tr>\n",
       "<tr><td>XGBoost_grid__1_AutoML_20201102_024352_model_3     </td><td style=\"text-align: right;\">               0.0577684</td><td style=\"text-align: right;\">0.240351</td><td style=\"text-align: right;\">0.0577684</td><td style=\"text-align: right;\">0.172956</td><td style=\"text-align: right;\">0.0356936</td></tr>\n",
       "<tr><td>XGBoost_grid__1_AutoML_20201102_024352_model_7     </td><td style=\"text-align: right;\">               0.0578987</td><td style=\"text-align: right;\">0.240621</td><td style=\"text-align: right;\">0.0578987</td><td style=\"text-align: right;\">0.17308 </td><td style=\"text-align: right;\">0.0357391</td></tr>\n",
       "<tr><td>XGBoost_grid__1_AutoML_20201102_024352_model_2     </td><td style=\"text-align: right;\">               0.0580433</td><td style=\"text-align: right;\">0.240922</td><td style=\"text-align: right;\">0.0580433</td><td style=\"text-align: right;\">0.180727</td><td style=\"text-align: right;\">0.0358024</td></tr>\n",
       "<tr><td>XGBoost_2_AutoML_20201102_024352                   </td><td style=\"text-align: right;\">               0.0583016</td><td style=\"text-align: right;\">0.241457</td><td style=\"text-align: right;\">0.0583016</td><td style=\"text-align: right;\">0.176343</td><td style=\"text-align: right;\">0.0358871</td></tr>\n",
       "<tr><td>XGBoost_1_AutoML_20201102_024352                   </td><td style=\"text-align: right;\">               0.0586473</td><td style=\"text-align: right;\">0.242172</td><td style=\"text-align: right;\">0.0586473</td><td style=\"text-align: right;\">0.174676</td><td style=\"text-align: right;\">0.0359732</td></tr>\n",
       "<tr><td>XGBoost_grid__1_AutoML_20201102_024352_model_6     </td><td style=\"text-align: right;\">               0.0590534</td><td style=\"text-align: right;\">0.243009</td><td style=\"text-align: right;\">0.0590534</td><td style=\"text-align: right;\">0.183713</td><td style=\"text-align: right;\">0.0361048</td></tr>\n",
       "<tr><td>XRT_1_AutoML_20201102_024352                       </td><td style=\"text-align: right;\">               0.0594656</td><td style=\"text-align: right;\">0.243856</td><td style=\"text-align: right;\">0.0594656</td><td style=\"text-align: right;\">0.181802</td><td style=\"text-align: right;\">0.0362063</td></tr>\n",
       "<tr><td>XGBoost_grid__1_AutoML_20201102_024352_model_5     </td><td style=\"text-align: right;\">               0.0594963</td><td style=\"text-align: right;\">0.243919</td><td style=\"text-align: right;\">0.0594963</td><td style=\"text-align: right;\">0.186513</td><td style=\"text-align: right;\">0.0362324</td></tr>\n",
       "<tr><td>DRF_1_AutoML_20201102_024352                       </td><td style=\"text-align: right;\">               0.059551 </td><td style=\"text-align: right;\">0.244031</td><td style=\"text-align: right;\">0.059551 </td><td style=\"text-align: right;\">0.182126</td><td style=\"text-align: right;\">0.0362388</td></tr>\n",
       "<tr><td>GBM_grid__1_AutoML_20201102_024352_model_4         </td><td style=\"text-align: right;\">               0.05958  </td><td style=\"text-align: right;\">0.24409 </td><td style=\"text-align: right;\">0.05958  </td><td style=\"text-align: right;\">0.186384</td><td style=\"text-align: right;\">0.0362446</td></tr>\n",
       "<tr><td>GBM_grid__1_AutoML_20201102_024352_model_11        </td><td style=\"text-align: right;\">               0.0600008</td><td style=\"text-align: right;\">0.244951</td><td style=\"text-align: right;\">0.0600008</td><td style=\"text-align: right;\">0.186878</td><td style=\"text-align: right;\">0.0363713</td></tr>\n",
       "<tr><td>GBM_grid__1_AutoML_20201102_024352_model_2         </td><td style=\"text-align: right;\">               0.0600586</td><td style=\"text-align: right;\">0.245069</td><td style=\"text-align: right;\">0.0600586</td><td style=\"text-align: right;\">0.189285</td><td style=\"text-align: right;\">0.0363914</td></tr>\n",
       "<tr><td>XGBoost_grid__1_AutoML_20201102_024352_model_1     </td><td style=\"text-align: right;\">               0.0602198</td><td style=\"text-align: right;\">0.245397</td><td style=\"text-align: right;\">0.0602198</td><td style=\"text-align: right;\">0.188861</td><td style=\"text-align: right;\">0.0364568</td></tr>\n",
       "<tr><td>GBM_grid__1_AutoML_20201102_024352_model_1         </td><td style=\"text-align: right;\">               0.0603719</td><td style=\"text-align: right;\">0.245707</td><td style=\"text-align: right;\">0.0603719</td><td style=\"text-align: right;\">0.188963</td><td style=\"text-align: right;\">0.03648  </td></tr>\n",
       "<tr><td>GBM_grid__1_AutoML_20201102_024352_model_6         </td><td style=\"text-align: right;\">               0.0605659</td><td style=\"text-align: right;\">0.246101</td><td style=\"text-align: right;\">0.0605659</td><td style=\"text-align: right;\">0.190052</td><td style=\"text-align: right;\">0.0365454</td></tr>\n",
       "<tr><td>GBM_grid__1_AutoML_20201102_024352_model_3         </td><td style=\"text-align: right;\">               0.0619528</td><td style=\"text-align: right;\">0.248903</td><td style=\"text-align: right;\">0.0619528</td><td style=\"text-align: right;\">0.196216</td><td style=\"text-align: right;\">0.036968 </td></tr>\n",
       "<tr><td>GBM_grid__1_AutoML_20201102_024352_model_8         </td><td style=\"text-align: right;\">               0.0647083</td><td style=\"text-align: right;\">0.254378</td><td style=\"text-align: right;\">0.0647083</td><td style=\"text-align: right;\">0.203581</td><td style=\"text-align: right;\">0.0377708</td></tr>\n",
       "<tr><td>GBM_grid__1_AutoML_20201102_024352_model_9         </td><td style=\"text-align: right;\">               0.064713 </td><td style=\"text-align: right;\">0.254388</td><td style=\"text-align: right;\">0.064713 </td><td style=\"text-align: right;\">0.200368</td><td style=\"text-align: right;\">0.0377916</td></tr>\n",
       "<tr><td>GBM_5_AutoML_20201102_024352                       </td><td style=\"text-align: right;\">               0.0650689</td><td style=\"text-align: right;\">0.255086</td><td style=\"text-align: right;\">0.0650689</td><td style=\"text-align: right;\">0.202102</td><td style=\"text-align: right;\">0.0378917</td></tr>\n",
       "<tr><td>DeepLearning_grid__3_AutoML_20201102_024352_model_1</td><td style=\"text-align: right;\">               0.0651731</td><td style=\"text-align: right;\">0.25529 </td><td style=\"text-align: right;\">0.0651731</td><td style=\"text-align: right;\">0.203013</td><td style=\"text-align: right;\">0.0379652</td></tr>\n",
       "<tr><td>StackedEnsemble_AllModels_AutoML_20201102_024352   </td><td style=\"text-align: right;\">               0.0656415</td><td style=\"text-align: right;\">0.256206</td><td style=\"text-align: right;\">0.0656415</td><td style=\"text-align: right;\">0.207267</td><td style=\"text-align: right;\">0.0380529</td></tr>\n",
       "<tr><td>StackedEnsemble_BestOfFamily_AutoML_20201102_024352</td><td style=\"text-align: right;\">               0.0662575</td><td style=\"text-align: right;\">0.257405</td><td style=\"text-align: right;\">0.0662575</td><td style=\"text-align: right;\">0.208648</td><td style=\"text-align: right;\">0.0382315</td></tr>\n",
       "<tr><td>DeepLearning_grid__1_AutoML_20201102_024352_model_1</td><td style=\"text-align: right;\">               0.067277 </td><td style=\"text-align: right;\">0.259378</td><td style=\"text-align: right;\">0.067277 </td><td style=\"text-align: right;\">0.202917</td><td style=\"text-align: right;\">0.0385127</td></tr>\n",
       "<tr><td>GBM_grid__1_AutoML_20201102_024352_model_7         </td><td style=\"text-align: right;\">               0.0673476</td><td style=\"text-align: right;\">0.259514</td><td style=\"text-align: right;\">0.0673476</td><td style=\"text-align: right;\">0.209831</td><td style=\"text-align: right;\">0.0385417</td></tr>\n",
       "<tr><td>GBM_grid__1_AutoML_20201102_024352_model_5         </td><td style=\"text-align: right;\">               0.0677698</td><td style=\"text-align: right;\">0.260326</td><td style=\"text-align: right;\">0.0677698</td><td style=\"text-align: right;\">0.211044</td><td style=\"text-align: right;\">0.0386593</td></tr>\n",
       "<tr><td>DeepLearning_grid__3_AutoML_20201102_024352_model_3</td><td style=\"text-align: right;\">               0.0678147</td><td style=\"text-align: right;\">0.260413</td><td style=\"text-align: right;\">0.0678147</td><td style=\"text-align: right;\">0.206664</td><td style=\"text-align: right;\">0.0386629</td></tr>\n",
       "<tr><td>DeepLearning_grid__1_AutoML_20201102_024352_model_2</td><td style=\"text-align: right;\">               0.0683878</td><td style=\"text-align: right;\">0.261511</td><td style=\"text-align: right;\">0.0683878</td><td style=\"text-align: right;\">0.209206</td><td style=\"text-align: right;\">0.038802 </td></tr>\n",
       "<tr><td>DeepLearning_1_AutoML_20201102_024352              </td><td style=\"text-align: right;\">               0.0685724</td><td style=\"text-align: right;\">0.261863</td><td style=\"text-align: right;\">0.0685724</td><td style=\"text-align: right;\">0.209986</td><td style=\"text-align: right;\">0.0388944</td></tr>\n",
       "<tr><td>DeepLearning_grid__3_AutoML_20201102_024352_model_2</td><td style=\"text-align: right;\">               0.0685908</td><td style=\"text-align: right;\">0.261898</td><td style=\"text-align: right;\">0.0685908</td><td style=\"text-align: right;\">0.210612</td><td style=\"text-align: right;\">0.0388856</td></tr>\n",
       "<tr><td>DeepLearning_grid__1_AutoML_20201102_024352_model_3</td><td style=\"text-align: right;\">               0.0693185</td><td style=\"text-align: right;\">0.263284</td><td style=\"text-align: right;\">0.0693185</td><td style=\"text-align: right;\">0.214179</td><td style=\"text-align: right;\">0.0391106</td></tr>\n",
       "<tr><td>DeepLearning_grid__1_AutoML_20201102_024352_model_5</td><td style=\"text-align: right;\">               0.0695561</td><td style=\"text-align: right;\">0.263735</td><td style=\"text-align: right;\">0.0695561</td><td style=\"text-align: right;\">0.213729</td><td style=\"text-align: right;\">0.0392223</td></tr>\n",
       "<tr><td>GLM_1_AutoML_20201102_024352                       </td><td style=\"text-align: right;\">               0.0695933</td><td style=\"text-align: right;\">0.263805</td><td style=\"text-align: right;\">0.0695933</td><td style=\"text-align: right;\">0.215153</td><td style=\"text-align: right;\">0.0391757</td></tr>\n",
       "<tr><td>DeepLearning_grid__2_AutoML_20201102_024352_model_1</td><td style=\"text-align: right;\">               0.0706629</td><td style=\"text-align: right;\">0.265825</td><td style=\"text-align: right;\">0.0706629</td><td style=\"text-align: right;\">0.214854</td><td style=\"text-align: right;\">0.0394698</td></tr>\n",
       "<tr><td>DeepLearning_grid__1_AutoML_20201102_024352_model_4</td><td style=\"text-align: right;\">               0.0706997</td><td style=\"text-align: right;\">0.265894</td><td style=\"text-align: right;\">0.0706997</td><td style=\"text-align: right;\">0.216502</td><td style=\"text-align: right;\">0.0394938</td></tr>\n",
       "<tr><td>DeepLearning_grid__3_AutoML_20201102_024352_model_4</td><td style=\"text-align: right;\">               0.0709799</td><td style=\"text-align: right;\">0.266421</td><td style=\"text-align: right;\">0.0709799</td><td style=\"text-align: right;\">0.218516</td><td style=\"text-align: right;\">0.0395731</td></tr>\n",
       "<tr><td>DeepLearning_grid__2_AutoML_20201102_024352_model_2</td><td style=\"text-align: right;\">               0.0774531</td><td style=\"text-align: right;\">0.278304</td><td style=\"text-align: right;\">0.0774531</td><td style=\"text-align: right;\">0.223668</td><td style=\"text-align: right;\">0.0413834</td></tr>\n",
       "</tbody>\n",
       "</table>"
      ]
     },
     "metadata": {
      "tags": []
     },
     "output_type": "display_data"
    },
    {
     "data": {
      "text/plain": []
     },
     "execution_count": 207,
     "metadata": {
      "tags": []
     },
     "output_type": "execute_result"
    }
   ],
   "source": [
    "lb.head(rows=lb.nrows)"
   ]
  },
  {
   "cell_type": "code",
   "execution_count": null,
   "metadata": {
    "id": "YBpMOa84yRa2"
   },
   "outputs": [],
   "source": [
    "saved_model = h2o.save_model(aml.leader, path = \"\", force=True)"
   ]
  },
  {
   "cell_type": "code",
   "execution_count": null,
   "metadata": {
    "colab": {
     "base_uri": "https://localhost:8080/",
     "height": 34
    },
    "id": "0qfxWEGzyRa4",
    "outputId": "688fc950-488e-439a-c505-ed666649e441"
   },
   "outputs": [
    {
     "data": {
      "application/vnd.google.colaboratory.intrinsic+json": {
       "type": "string"
      },
      "text/plain": [
       "'/content/GBM_1_AutoML_20201102_024352'"
      ]
     },
     "execution_count": 209,
     "metadata": {
      "tags": []
     },
     "output_type": "execute_result"
    }
   ],
   "source": [
    "saved_model"
   ]
  },
  {
   "cell_type": "code",
   "execution_count": 9,
   "metadata": {},
   "outputs": [
    {
     "data": {
      "text/plain": [
       "<function h2o.h2o.shutdown(prompt=False)>"
      ]
     },
     "execution_count": 9,
     "metadata": {},
     "output_type": "execute_result"
    }
   ],
   "source": [
    "h2o.shutdown"
   ]
  },
  {
   "cell_type": "code",
   "execution_count": 1,
   "metadata": {},
   "outputs": [
    {
     "name": "stdout",
     "output_type": "stream",
     "text": [
      "Checking whether there is an H2O instance running at http://127.0.0.1:54321 ..... not found.\n",
      "Attempting to start a local H2O server...\n",
      "; Java HotSpot(TM) 64-Bit Server VM (build 25.221-b11, mixed mode)\n",
      "  Starting server from C:\\Users\\study\\anaconda3\\lib\\site-packages\\h2o\\backend\\bin\\h2o.jar\n",
      "  Ice root: C:\\Users\\study\\AppData\\Local\\Temp\\tmpji84nc9d\n",
      "  JVM stdout: C:\\Users\\study\\AppData\\Local\\Temp\\tmpji84nc9d\\h2o_study_started_from_python.out\n",
      "  JVM stderr: C:\\Users\\study\\AppData\\Local\\Temp\\tmpji84nc9d\\h2o_study_started_from_python.err\n",
      "  Server is running at http://127.0.0.1:54321\n",
      "Connecting to H2O server at http://127.0.0.1:54321 ... successful.\n"
     ]
    },
    {
     "data": {
      "text/html": [
       "<div style=\"overflow:auto\"><table style=\"width:50%\"><tr><td>H2O_cluster_uptime:</td>\n",
       "<td>03 secs</td></tr>\n",
       "<tr><td>H2O_cluster_timezone:</td>\n",
       "<td>Asia/Seoul</td></tr>\n",
       "<tr><td>H2O_data_parsing_timezone:</td>\n",
       "<td>UTC</td></tr>\n",
       "<tr><td>H2O_cluster_version:</td>\n",
       "<td>3.30.1.3</td></tr>\n",
       "<tr><td>H2O_cluster_version_age:</td>\n",
       "<td>2 months and 4 days </td></tr>\n",
       "<tr><td>H2O_cluster_name:</td>\n",
       "<td>H2O_from_python_study_ltcunj</td></tr>\n",
       "<tr><td>H2O_cluster_total_nodes:</td>\n",
       "<td>1</td></tr>\n",
       "<tr><td>H2O_cluster_free_memory:</td>\n",
       "<td>177.8 Gb</td></tr>\n",
       "<tr><td>H2O_cluster_total_cores:</td>\n",
       "<td>8</td></tr>\n",
       "<tr><td>H2O_cluster_allowed_cores:</td>\n",
       "<td>8</td></tr>\n",
       "<tr><td>H2O_cluster_status:</td>\n",
       "<td>accepting new members, healthy</td></tr>\n",
       "<tr><td>H2O_connection_url:</td>\n",
       "<td>http://127.0.0.1:54321</td></tr>\n",
       "<tr><td>H2O_connection_proxy:</td>\n",
       "<td>{\"http\": null, \"https\": null}</td></tr>\n",
       "<tr><td>H2O_internal_security:</td>\n",
       "<td>False</td></tr>\n",
       "<tr><td>H2O_API_Extensions:</td>\n",
       "<td>Amazon S3, Algos, AutoML, Core V3, TargetEncoder, Core V4</td></tr>\n",
       "<tr><td>Python_version:</td>\n",
       "<td>3.7.6 final</td></tr></table></div>"
      ],
      "text/plain": [
       "--------------------------  ---------------------------------------------------------\n",
       "H2O_cluster_uptime:         03 secs\n",
       "H2O_cluster_timezone:       Asia/Seoul\n",
       "H2O_data_parsing_timezone:  UTC\n",
       "H2O_cluster_version:        3.30.1.3\n",
       "H2O_cluster_version_age:    2 months and 4 days\n",
       "H2O_cluster_name:           H2O_from_python_study_ltcunj\n",
       "H2O_cluster_total_nodes:    1\n",
       "H2O_cluster_free_memory:    177.8 Gb\n",
       "H2O_cluster_total_cores:    8\n",
       "H2O_cluster_allowed_cores:  8\n",
       "H2O_cluster_status:         accepting new members, healthy\n",
       "H2O_connection_url:         http://127.0.0.1:54321\n",
       "H2O_connection_proxy:       {\"http\": null, \"https\": null}\n",
       "H2O_internal_security:      False\n",
       "H2O_API_Extensions:         Amazon S3, Algos, AutoML, Core V3, TargetEncoder, Core V4\n",
       "Python_version:             3.7.6 final\n",
       "--------------------------  ---------------------------------------------------------"
      ]
     },
     "metadata": {},
     "output_type": "display_data"
    }
   ],
   "source": [
    "import h2o\n",
    "\n",
    "h2o.init(ip=\"127.0.0.1\", max_mem_size_GB = 200, nthreads = 10)"
   ]
  },
  {
   "cell_type": "code",
   "execution_count": 2,
   "metadata": {
    "scrolled": true
   },
   "outputs": [],
   "source": [
    "    model = h2o.load_model(\"./model/total/XGBoost_grid__1_AutoML_PH\")"
   ]
  },
  {
   "cell_type": "code",
   "execution_count": null,
   "metadata": {
    "id": "FenefVX_eAVQ"
   },
   "outputs": [],
   "source": [
    "model."
   ]
  }
 ],
 "metadata": {
  "accelerator": "GPU",
  "colab": {
   "collapsed_sections": [
    "skT0b-zOyRa-"
   ],
   "name": "COLAB - H2OAutoMLOverview.ipynb의 사본의 사본",
   "provenance": []
  },
  "kernelspec": {
   "display_name": "Python 3",
   "language": "python",
   "name": "python3"
  },
  "language_info": {
   "codemirror_mode": {
    "name": "ipython",
    "version": 3
   },
   "file_extension": ".py",
   "mimetype": "text/x-python",
   "name": "python",
   "nbconvert_exporter": "python",
   "pygments_lexer": "ipython3",
   "version": "3.7.6"
  }
 },
 "nbformat": 4,
 "nbformat_minor": 1
}
